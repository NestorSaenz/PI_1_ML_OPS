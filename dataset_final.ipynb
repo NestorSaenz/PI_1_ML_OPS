{
 "cells": [
  {
   "cell_type": "markdown",
   "metadata": {},
   "source": [
    "## Se cargan los tres datasets en uno solo para dar respuesta a los endpoints"
   ]
  },
  {
   "cell_type": "code",
   "execution_count": 7,
   "metadata": {},
   "outputs": [],
   "source": [
    "import pandas as pd"
   ]
  },
  {
   "cell_type": "markdown",
   "metadata": {},
   "source": [
    "## Dataset steam_games"
   ]
  },
  {
   "cell_type": "code",
   "execution_count": 8,
   "metadata": {},
   "outputs": [
    {
     "data": {
      "text/plain": [
       "(       genres                title release_date  price  item_id  developer\n",
       " 88310  Action  Lost Summoner Kitty         2018   4.99   761140  Kotoshiro\n",
       " 88310  Casual  Lost Summoner Kitty         2018   4.99   761140  Kotoshiro,\n",
       " (68023, 6))"
      ]
     },
     "execution_count": 8,
     "metadata": {},
     "output_type": "execute_result"
    }
   ],
   "source": [
    "df_steam_games = pd.read_parquet('Dataset/steam_games.parquet')\n",
    "df_steam_games['item_id'] = df_steam_games['item_id'].astype(int)\n",
    "df_steam_games.head(2), df_steam_games.shape"
   ]
  },
  {
   "cell_type": "code",
   "execution_count": 9,
   "metadata": {},
   "outputs": [
    {
     "data": {
      "text/plain": [
       "27461"
      ]
     },
     "execution_count": 9,
     "metadata": {},
     "output_type": "execute_result"
    }
   ],
   "source": [
    "len(df_steam_games['item_id'].unique())"
   ]
  },
  {
   "cell_type": "markdown",
   "metadata": {},
   "source": [
    "## Dataset user_review"
   ]
  },
  {
   "cell_type": "code",
   "execution_count": 10,
   "metadata": {},
   "outputs": [
    {
     "name": "stdout",
     "output_type": "stream",
     "text": [
      "<class 'pandas.core.frame.DataFrame'>\n",
      "Index: 59305 entries, 0 to 25798\n",
      "Data columns (total 4 columns):\n",
      " #   Column              Non-Null Count  Dtype \n",
      "---  ------              --------------  ----- \n",
      " 0   user_id             59305 non-null  object\n",
      " 1   item_id             59305 non-null  int32 \n",
      " 2   recommend           59305 non-null  bool  \n",
      " 3   sentiment_analysis  59305 non-null  int64 \n",
      "dtypes: bool(1), int32(1), int64(1), object(1)\n",
      "memory usage: 1.6+ MB\n"
     ]
    },
    {
     "data": {
      "text/plain": [
       "(            user_id  item_id  recommend  sentiment_analysis\n",
       " 13065  legomagalaga   230410       True                   2\n",
       " 10979      CRUBIK19   303390       True                   1,\n",
       " None)"
      ]
     },
     "execution_count": 10,
     "metadata": {},
     "output_type": "execute_result"
    }
   ],
   "source": [
    "df_review = pd.read_parquet('Dataset/user_review.parquet')\n",
    "df_review['item_id'] = df_review['item_id'].astype(int)\n",
    "df_review.sample(2), df_review.info()"
   ]
  },
  {
   "cell_type": "markdown",
   "metadata": {},
   "source": [
    "## Dataset user_items"
   ]
  },
  {
   "cell_type": "code",
   "execution_count": 11,
   "metadata": {},
   "outputs": [
    {
     "data": {
      "text/html": [
       "<div>\n",
       "<style scoped>\n",
       "    .dataframe tbody tr th:only-of-type {\n",
       "        vertical-align: middle;\n",
       "    }\n",
       "\n",
       "    .dataframe tbody tr th {\n",
       "        vertical-align: top;\n",
       "    }\n",
       "\n",
       "    .dataframe thead th {\n",
       "        text-align: right;\n",
       "    }\n",
       "</style>\n",
       "<table border=\"1\" class=\"dataframe\">\n",
       "  <thead>\n",
       "    <tr style=\"text-align: right;\">\n",
       "      <th></th>\n",
       "      <th>user_id</th>\n",
       "      <th>items_count</th>\n",
       "      <th>playtime_forever</th>\n",
       "      <th>playtime_2weeks</th>\n",
       "    </tr>\n",
       "  </thead>\n",
       "  <tbody>\n",
       "    <tr>\n",
       "      <th>0</th>\n",
       "      <td>76561197970982479</td>\n",
       "      <td>277</td>\n",
       "      <td>6.0</td>\n",
       "      <td>0.0</td>\n",
       "    </tr>\n",
       "    <tr>\n",
       "      <th>1</th>\n",
       "      <td>76561197970982479</td>\n",
       "      <td>277</td>\n",
       "      <td>0.0</td>\n",
       "      <td>0.0</td>\n",
       "    </tr>\n",
       "    <tr>\n",
       "      <th>2</th>\n",
       "      <td>76561197970982479</td>\n",
       "      <td>277</td>\n",
       "      <td>7.0</td>\n",
       "      <td>0.0</td>\n",
       "    </tr>\n",
       "  </tbody>\n",
       "</table>\n",
       "</div>"
      ],
      "text/plain": [
       "             user_id  items_count  playtime_forever  playtime_2weeks\n",
       "0  76561197970982479          277               6.0              0.0\n",
       "1  76561197970982479          277               0.0              0.0\n",
       "2  76561197970982479          277               7.0              0.0"
      ]
     },
     "execution_count": 11,
     "metadata": {},
     "output_type": "execute_result"
    }
   ],
   "source": [
    "df_items = pd.read_parquet('Dataset/user_items.parquet')\n",
    "df_items.head(3)"
   ]
  },
  {
   "cell_type": "code",
   "execution_count": 12,
   "metadata": {},
   "outputs": [
    {
     "data": {
      "text/plain": [
       "(2916386, 4)"
      ]
     },
     "execution_count": 12,
     "metadata": {},
     "output_type": "execute_result"
    }
   ],
   "source": [
    "df_items.shape"
   ]
  },
  {
   "cell_type": "markdown",
   "metadata": {},
   "source": [
    "## Dataset Final"
   ]
  },
  {
   "cell_type": "markdown",
   "metadata": {},
   "source": [
    "Se hace el merge de los 3 DataFrames a traves de la columna 'item_id'"
   ]
  },
  {
   "cell_type": "code",
   "execution_count": 13,
   "metadata": {},
   "outputs": [],
   "source": [
    "df_1 = pd.merge(df_steam_games, df_review, on = 'item_id' )"
   ]
  },
  {
   "cell_type": "code",
   "execution_count": 14,
   "metadata": {},
   "outputs": [],
   "source": [
    "df = pd.merge(df_1, df_items, on = 'user_id' )"
   ]
  },
  {
   "cell_type": "code",
   "execution_count": 15,
   "metadata": {},
   "outputs": [
    {
     "data": {
      "text/plain": [
       "(8344484, 12)"
      ]
     },
     "execution_count": 15,
     "metadata": {},
     "output_type": "execute_result"
    }
   ],
   "source": [
    "df.shape"
   ]
  },
  {
   "cell_type": "markdown",
   "metadata": {},
   "source": [
    "Se verifican duplicados y se borran"
   ]
  },
  {
   "cell_type": "code",
   "execution_count": 16,
   "metadata": {},
   "outputs": [
    {
     "data": {
      "text/plain": [
       "148206"
      ]
     },
     "execution_count": 16,
     "metadata": {},
     "output_type": "execute_result"
    }
   ],
   "source": [
    "df.duplicated(subset=df.columns).sum()\n"
   ]
  },
  {
   "cell_type": "code",
   "execution_count": 17,
   "metadata": {},
   "outputs": [],
   "source": [
    "df.drop_duplicates(keep= 'last', inplace=True)"
   ]
  },
  {
   "cell_type": "code",
   "execution_count": 18,
   "metadata": {},
   "outputs": [
    {
     "data": {
      "text/plain": [
       "(8196278, 12)"
      ]
     },
     "execution_count": 18,
     "metadata": {},
     "output_type": "execute_result"
    }
   ],
   "source": [
    "df.shape"
   ]
  },
  {
   "cell_type": "code",
   "execution_count": 19,
   "metadata": {},
   "outputs": [],
   "source": [
    "df.isna().sum()\n",
    "df.dropna(subset= ['playtime_forever','playtime_2weeks'], inplace= True)"
   ]
  },
  {
   "cell_type": "code",
   "execution_count": 20,
   "metadata": {},
   "outputs": [
    {
     "data": {
      "text/html": [
       "<div>\n",
       "<style scoped>\n",
       "    .dataframe tbody tr th:only-of-type {\n",
       "        vertical-align: middle;\n",
       "    }\n",
       "\n",
       "    .dataframe tbody tr th {\n",
       "        vertical-align: top;\n",
       "    }\n",
       "\n",
       "    .dataframe thead th {\n",
       "        text-align: right;\n",
       "    }\n",
       "</style>\n",
       "<table border=\"1\" class=\"dataframe\">\n",
       "  <thead>\n",
       "    <tr style=\"text-align: right;\">\n",
       "      <th></th>\n",
       "      <th>genres</th>\n",
       "      <th>title</th>\n",
       "      <th>release_date</th>\n",
       "      <th>price</th>\n",
       "      <th>item_id</th>\n",
       "      <th>developer</th>\n",
       "      <th>user_id</th>\n",
       "      <th>recommend</th>\n",
       "      <th>sentiment_analysis</th>\n",
       "      <th>items_count</th>\n",
       "      <th>playtime_forever</th>\n",
       "      <th>playtime_2weeks</th>\n",
       "    </tr>\n",
       "  </thead>\n",
       "  <tbody>\n",
       "    <tr>\n",
       "      <th>0</th>\n",
       "      <td>Action</td>\n",
       "      <td>Carmageddon Max Pack</td>\n",
       "      <td>1997</td>\n",
       "      <td>9.99</td>\n",
       "      <td>282010</td>\n",
       "      <td>Stainless Games Ltd</td>\n",
       "      <td>InstigatorAU</td>\n",
       "      <td>True</td>\n",
       "      <td>1</td>\n",
       "      <td>112</td>\n",
       "      <td>259.0</td>\n",
       "      <td>0.0</td>\n",
       "    </tr>\n",
       "    <tr>\n",
       "      <th>1</th>\n",
       "      <td>Action</td>\n",
       "      <td>Carmageddon Max Pack</td>\n",
       "      <td>1997</td>\n",
       "      <td>9.99</td>\n",
       "      <td>282010</td>\n",
       "      <td>Stainless Games Ltd</td>\n",
       "      <td>InstigatorAU</td>\n",
       "      <td>True</td>\n",
       "      <td>1</td>\n",
       "      <td>112</td>\n",
       "      <td>0.0</td>\n",
       "      <td>0.0</td>\n",
       "    </tr>\n",
       "    <tr>\n",
       "      <th>2</th>\n",
       "      <td>Action</td>\n",
       "      <td>Carmageddon Max Pack</td>\n",
       "      <td>1997</td>\n",
       "      <td>9.99</td>\n",
       "      <td>282010</td>\n",
       "      <td>Stainless Games Ltd</td>\n",
       "      <td>InstigatorAU</td>\n",
       "      <td>True</td>\n",
       "      <td>1</td>\n",
       "      <td>112</td>\n",
       "      <td>7410.0</td>\n",
       "      <td>0.0</td>\n",
       "    </tr>\n",
       "    <tr>\n",
       "      <th>3</th>\n",
       "      <td>Action</td>\n",
       "      <td>Carmageddon Max Pack</td>\n",
       "      <td>1997</td>\n",
       "      <td>9.99</td>\n",
       "      <td>282010</td>\n",
       "      <td>Stainless Games Ltd</td>\n",
       "      <td>InstigatorAU</td>\n",
       "      <td>True</td>\n",
       "      <td>1</td>\n",
       "      <td>112</td>\n",
       "      <td>66.0</td>\n",
       "      <td>0.0</td>\n",
       "    </tr>\n",
       "    <tr>\n",
       "      <th>4</th>\n",
       "      <td>Action</td>\n",
       "      <td>Carmageddon Max Pack</td>\n",
       "      <td>1997</td>\n",
       "      <td>9.99</td>\n",
       "      <td>282010</td>\n",
       "      <td>Stainless Games Ltd</td>\n",
       "      <td>InstigatorAU</td>\n",
       "      <td>True</td>\n",
       "      <td>1</td>\n",
       "      <td>112</td>\n",
       "      <td>9.0</td>\n",
       "      <td>0.0</td>\n",
       "    </tr>\n",
       "  </tbody>\n",
       "</table>\n",
       "</div>"
      ],
      "text/plain": [
       "   genres                 title release_date  price  item_id  \\\n",
       "0  Action  Carmageddon Max Pack         1997   9.99   282010   \n",
       "1  Action  Carmageddon Max Pack         1997   9.99   282010   \n",
       "2  Action  Carmageddon Max Pack         1997   9.99   282010   \n",
       "3  Action  Carmageddon Max Pack         1997   9.99   282010   \n",
       "4  Action  Carmageddon Max Pack         1997   9.99   282010   \n",
       "\n",
       "             developer       user_id  recommend  sentiment_analysis  \\\n",
       "0  Stainless Games Ltd  InstigatorAU       True                   1   \n",
       "1  Stainless Games Ltd  InstigatorAU       True                   1   \n",
       "2  Stainless Games Ltd  InstigatorAU       True                   1   \n",
       "3  Stainless Games Ltd  InstigatorAU       True                   1   \n",
       "4  Stainless Games Ltd  InstigatorAU       True                   1   \n",
       "\n",
       "   items_count  playtime_forever  playtime_2weeks  \n",
       "0          112             259.0              0.0  \n",
       "1          112               0.0              0.0  \n",
       "2          112            7410.0              0.0  \n",
       "3          112              66.0              0.0  \n",
       "4          112               9.0              0.0  "
      ]
     },
     "execution_count": 20,
     "metadata": {},
     "output_type": "execute_result"
    }
   ],
   "source": [
    "df.to_parquet(\"Dataset/data_final.parquet\")\n",
    "df.head()"
   ]
  },
  {
   "cell_type": "code",
   "execution_count": 21,
   "metadata": {},
   "outputs": [
    {
     "data": {
      "text/html": [
       "<div>\n",
       "<style scoped>\n",
       "    .dataframe tbody tr th:only-of-type {\n",
       "        vertical-align: middle;\n",
       "    }\n",
       "\n",
       "    .dataframe tbody tr th {\n",
       "        vertical-align: top;\n",
       "    }\n",
       "\n",
       "    .dataframe thead th {\n",
       "        text-align: right;\n",
       "    }\n",
       "</style>\n",
       "<table border=\"1\" class=\"dataframe\">\n",
       "  <thead>\n",
       "    <tr style=\"text-align: right;\">\n",
       "      <th></th>\n",
       "      <th>genres</th>\n",
       "      <th>title</th>\n",
       "      <th>release_date</th>\n",
       "      <th>price</th>\n",
       "      <th>item_id</th>\n",
       "      <th>developer</th>\n",
       "      <th>user_id</th>\n",
       "      <th>recommend</th>\n",
       "      <th>sentiment_analysis</th>\n",
       "      <th>items_count</th>\n",
       "      <th>playtime_forever</th>\n",
       "      <th>playtime_2weeks</th>\n",
       "    </tr>\n",
       "  </thead>\n",
       "  <tbody>\n",
       "    <tr>\n",
       "      <th>0</th>\n",
       "      <td>Action</td>\n",
       "      <td>Carmageddon Max Pack</td>\n",
       "      <td>1997</td>\n",
       "      <td>9.99</td>\n",
       "      <td>282010</td>\n",
       "      <td>Stainless Games Ltd</td>\n",
       "      <td>InstigatorAU</td>\n",
       "      <td>True</td>\n",
       "      <td>1</td>\n",
       "      <td>112</td>\n",
       "      <td>259.0</td>\n",
       "      <td>0.0</td>\n",
       "    </tr>\n",
       "  </tbody>\n",
       "</table>\n",
       "</div>"
      ],
      "text/plain": [
       "   genres                 title release_date  price  item_id  \\\n",
       "0  Action  Carmageddon Max Pack         1997   9.99   282010   \n",
       "\n",
       "             developer       user_id  recommend  sentiment_analysis  \\\n",
       "0  Stainless Games Ltd  InstigatorAU       True                   1   \n",
       "\n",
       "   items_count  playtime_forever  playtime_2weeks  \n",
       "0          112             259.0              0.0  "
      ]
     },
     "execution_count": 21,
     "metadata": {},
     "output_type": "execute_result"
    }
   ],
   "source": [
    "df.head(1)"
   ]
  },
  {
   "cell_type": "markdown",
   "metadata": {},
   "source": [
    "Dataset para el endpoint 2"
   ]
  },
  {
   "cell_type": "code",
   "execution_count": 22,
   "metadata": {},
   "outputs": [
    {
     "data": {
      "text/plain": [
       "(30000, 4)"
      ]
     },
     "execution_count": 22,
     "metadata": {},
     "output_type": "execute_result"
    }
   ],
   "source": [
    "df_endpoint_2 = df[['price','user_id','recommend','items_count']] \n",
    "df_endpoint_2 = df_endpoint_2.sample(30000, random_state=42)                  \n",
    "df_endpoint_2.to_parquet(\"Dataset/endpoint_2.parquet\")\n",
    "df_endpoint_2.shape"
   ]
  },
  {
   "cell_type": "markdown",
   "metadata": {},
   "source": [
    "Dataset enpoint 3"
   ]
  },
  {
   "cell_type": "code",
   "execution_count": 37,
   "metadata": {},
   "outputs": [
    {
     "data": {
      "text/plain": [
       "(30000, 4)"
      ]
     },
     "execution_count": 37,
     "metadata": {},
     "output_type": "execute_result"
    }
   ],
   "source": [
    "df_endpoint_3 = df[['user_id', 'playtime_forever', 'genres', 'release_date']]\n",
    "df_endpoint_3 = df_endpoint_3.sample(30000, random_state=30000)\n",
    "df_endpoint_3.to_parquet(\"Dataset/endpoint_3.parquet\")\n",
    "df_endpoint_3.shape"
   ]
  },
  {
   "cell_type": "markdown",
   "metadata": {},
   "source": [
    "Dataset endpoint 4 y 5"
   ]
  },
  {
   "cell_type": "code",
   "execution_count": 38,
   "metadata": {},
   "outputs": [
    {
     "data": {
      "text/plain": [
       "(3000, 4)"
      ]
     },
     "execution_count": 38,
     "metadata": {},
     "output_type": "execute_result"
    }
   ],
   "source": [
    "df_endpoint_4_5 = df[['developer', 'recommend', 'release_date', 'sentiment_analysis']]\n",
    "df_endpoint_4_5 = df_endpoint_4_5.sample(3000, random_state=42)\n",
    "df_endpoint_4_5.to_parquet('Dataset/endpoint_4_5.parquet')\n",
    "df_endpoint_4_5.shape"
   ]
  }
 ],
 "metadata": {
  "kernelspec": {
   "display_name": "env",
   "language": "python",
   "name": "python3"
  },
  "language_info": {
   "codemirror_mode": {
    "name": "ipython",
    "version": 3
   },
   "file_extension": ".py",
   "mimetype": "text/x-python",
   "name": "python",
   "nbconvert_exporter": "python",
   "pygments_lexer": "ipython3",
   "version": "3.12.1"
  }
 },
 "nbformat": 4,
 "nbformat_minor": 2
}
