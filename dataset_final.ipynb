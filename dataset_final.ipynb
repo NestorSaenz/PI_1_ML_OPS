{
 "cells": [
  {
   "cell_type": "markdown",
   "metadata": {},
   "source": [
    "## Se cargan los tres datasets en uno solo para dar respuesta a los endpoints"
   ]
  },
  {
   "cell_type": "code",
   "execution_count": 2,
   "metadata": {},
   "outputs": [],
   "source": [
    "import pandas as pd"
   ]
  },
  {
   "cell_type": "markdown",
   "metadata": {},
   "source": [
    "## Dataset steam_games"
   ]
  },
  {
   "cell_type": "code",
   "execution_count": 27,
   "metadata": {},
   "outputs": [
    {
     "data": {
      "text/plain": [
       "(   genres                title  release_date  price   item_id  developer\n",
       " 0  Action  Lost Summoner Kitty        2018.0   4.99  761140.0  Kotoshiro\n",
       " 1  Casual  Lost Summoner Kitty        2018.0   4.99  761140.0  Kotoshiro,\n",
       " (68023, 6))"
      ]
     },
     "execution_count": 27,
     "metadata": {},
     "output_type": "execute_result"
    }
   ],
   "source": [
    "df_steam_games = pd.read_parquet('Dataset/steam_games.parquet')\n",
    "df_steam_games.drop(columns= 'Unnamed: 0', inplace=True)\n",
    "df_steam_games.head(2)"
   ]
  },
  {
   "cell_type": "markdown",
   "metadata": {},
   "source": [
    "## Dataset user_review"
   ]
  },
  {
   "cell_type": "code",
   "execution_count": 4,
   "metadata": {},
   "outputs": [
    {
     "data": {
      "text/html": [
       "<div>\n",
       "<style scoped>\n",
       "    .dataframe tbody tr th:only-of-type {\n",
       "        vertical-align: middle;\n",
       "    }\n",
       "\n",
       "    .dataframe tbody tr th {\n",
       "        vertical-align: top;\n",
       "    }\n",
       "\n",
       "    .dataframe thead th {\n",
       "        text-align: right;\n",
       "    }\n",
       "</style>\n",
       "<table border=\"1\" class=\"dataframe\">\n",
       "  <thead>\n",
       "    <tr style=\"text-align: right;\">\n",
       "      <th></th>\n",
       "      <th>user_id</th>\n",
       "      <th>item_id</th>\n",
       "      <th>recommend</th>\n",
       "      <th>sentiment_analysis</th>\n",
       "    </tr>\n",
       "  </thead>\n",
       "  <tbody>\n",
       "    <tr>\n",
       "      <th>0</th>\n",
       "      <td>76561197970982479</td>\n",
       "      <td>1250</td>\n",
       "      <td>True</td>\n",
       "      <td>2</td>\n",
       "    </tr>\n",
       "    <tr>\n",
       "      <th>1</th>\n",
       "      <td>76561197970982479</td>\n",
       "      <td>22200</td>\n",
       "      <td>True</td>\n",
       "      <td>2</td>\n",
       "    </tr>\n",
       "  </tbody>\n",
       "</table>\n",
       "</div>"
      ],
      "text/plain": [
       "             user_id  item_id  recommend  sentiment_analysis\n",
       "0  76561197970982479     1250       True                   2\n",
       "1  76561197970982479    22200       True                   2"
      ]
     },
     "execution_count": 4,
     "metadata": {},
     "output_type": "execute_result"
    }
   ],
   "source": [
    "df_review = pd.read_parquet('Dataset/user_review.parquet')\n",
    "df_review.drop(columns='Unnamed: 0', inplace=True)\n",
    "df_review.head(2)"
   ]
  },
  {
   "cell_type": "markdown",
   "metadata": {},
   "source": [
    "## Dataset user_items"
   ]
  },
  {
   "cell_type": "code",
   "execution_count": 5,
   "metadata": {},
   "outputs": [
    {
     "data": {
      "text/html": [
       "<div>\n",
       "<style scoped>\n",
       "    .dataframe tbody tr th:only-of-type {\n",
       "        vertical-align: middle;\n",
       "    }\n",
       "\n",
       "    .dataframe tbody tr th {\n",
       "        vertical-align: top;\n",
       "    }\n",
       "\n",
       "    .dataframe thead th {\n",
       "        text-align: right;\n",
       "    }\n",
       "</style>\n",
       "<table border=\"1\" class=\"dataframe\">\n",
       "  <thead>\n",
       "    <tr style=\"text-align: right;\">\n",
       "      <th></th>\n",
       "      <th>user_id</th>\n",
       "      <th>items_count</th>\n",
       "      <th>playtime_forever</th>\n",
       "      <th>playtime_2weeks</th>\n",
       "    </tr>\n",
       "  </thead>\n",
       "  <tbody>\n",
       "    <tr>\n",
       "      <th>0</th>\n",
       "      <td>76561197970982479</td>\n",
       "      <td>277</td>\n",
       "      <td>6.0</td>\n",
       "      <td>0.0</td>\n",
       "    </tr>\n",
       "    <tr>\n",
       "      <th>1</th>\n",
       "      <td>76561197970982479</td>\n",
       "      <td>277</td>\n",
       "      <td>0.0</td>\n",
       "      <td>0.0</td>\n",
       "    </tr>\n",
       "    <tr>\n",
       "      <th>2</th>\n",
       "      <td>76561197970982479</td>\n",
       "      <td>277</td>\n",
       "      <td>7.0</td>\n",
       "      <td>0.0</td>\n",
       "    </tr>\n",
       "  </tbody>\n",
       "</table>\n",
       "</div>"
      ],
      "text/plain": [
       "             user_id  items_count  playtime_forever  playtime_2weeks\n",
       "0  76561197970982479          277               6.0              0.0\n",
       "1  76561197970982479          277               0.0              0.0\n",
       "2  76561197970982479          277               7.0              0.0"
      ]
     },
     "execution_count": 5,
     "metadata": {},
     "output_type": "execute_result"
    }
   ],
   "source": [
    "df_items = pd.read_parquet('Dataset/user_items.parquet')\n",
    "df_items.drop(columns='Unnamed: 0', inplace=True)\n",
    "df_items.head(3)"
   ]
  },
  {
   "cell_type": "code",
   "execution_count": 6,
   "metadata": {},
   "outputs": [
    {
     "data": {
      "text/plain": [
       "(2916386, 4)"
      ]
     },
     "execution_count": 6,
     "metadata": {},
     "output_type": "execute_result"
    }
   ],
   "source": [
    "df_items.shape"
   ]
  },
  {
   "cell_type": "markdown",
   "metadata": {},
   "source": [
    "## Dataset Final"
   ]
  },
  {
   "cell_type": "markdown",
   "metadata": {},
   "source": [
    "Se hace el merge de los 3 DataFrames a traves de la columna 'item_id'"
   ]
  },
  {
   "cell_type": "code",
   "execution_count": 7,
   "metadata": {},
   "outputs": [],
   "source": [
    "df_1 = pd.merge(df_steam_games, df_review, on = 'item_id' )"
   ]
  },
  {
   "cell_type": "code",
   "execution_count": 8,
   "metadata": {},
   "outputs": [],
   "source": [
    "df = pd.merge(df_1, df_items, on = 'user_id' )"
   ]
  },
  {
   "cell_type": "code",
   "execution_count": 9,
   "metadata": {},
   "outputs": [
    {
     "data": {
      "text/plain": [
       "(8344484, 12)"
      ]
     },
     "execution_count": 9,
     "metadata": {},
     "output_type": "execute_result"
    }
   ],
   "source": [
    "df.shape"
   ]
  },
  {
   "cell_type": "markdown",
   "metadata": {},
   "source": [
    "Se verifican duplicados y se borran"
   ]
  },
  {
   "cell_type": "code",
   "execution_count": 10,
   "metadata": {},
   "outputs": [
    {
     "data": {
      "text/plain": [
       "148206"
      ]
     },
     "execution_count": 10,
     "metadata": {},
     "output_type": "execute_result"
    }
   ],
   "source": [
    "df.duplicated(subset=df.columns).sum()\n"
   ]
  },
  {
   "cell_type": "code",
   "execution_count": 11,
   "metadata": {},
   "outputs": [],
   "source": [
    "df.drop_duplicates(keep= 'last', inplace=True)"
   ]
  },
  {
   "cell_type": "code",
   "execution_count": 12,
   "metadata": {},
   "outputs": [
    {
     "data": {
      "text/plain": [
       "(8196278, 12)"
      ]
     },
     "execution_count": 12,
     "metadata": {},
     "output_type": "execute_result"
    }
   ],
   "source": [
    "df.shape"
   ]
  },
  {
   "cell_type": "code",
   "execution_count": 32,
   "metadata": {},
   "outputs": [
    {
     "data": {
      "text/html": [
       "<div>\n",
       "<style scoped>\n",
       "    .dataframe tbody tr th:only-of-type {\n",
       "        vertical-align: middle;\n",
       "    }\n",
       "\n",
       "    .dataframe tbody tr th {\n",
       "        vertical-align: top;\n",
       "    }\n",
       "\n",
       "    .dataframe thead th {\n",
       "        text-align: right;\n",
       "    }\n",
       "</style>\n",
       "<table border=\"1\" class=\"dataframe\">\n",
       "  <thead>\n",
       "    <tr style=\"text-align: right;\">\n",
       "      <th></th>\n",
       "      <th>genres</th>\n",
       "      <th>title</th>\n",
       "      <th>release_date</th>\n",
       "      <th>price</th>\n",
       "      <th>item_id</th>\n",
       "      <th>developer</th>\n",
       "      <th>user_id</th>\n",
       "      <th>recommend</th>\n",
       "      <th>sentiment_analysis</th>\n",
       "      <th>items_count</th>\n",
       "      <th>playtime_forever</th>\n",
       "      <th>playtime_2weeks</th>\n",
       "    </tr>\n",
       "  </thead>\n",
       "  <tbody>\n",
       "    <tr>\n",
       "      <th>0</th>\n",
       "      <td>Action</td>\n",
       "      <td>Carmageddon Max Pack</td>\n",
       "      <td>1997.0</td>\n",
       "      <td>9.99</td>\n",
       "      <td>282010.0</td>\n",
       "      <td>Stainless Games Ltd</td>\n",
       "      <td>InstigatorAU</td>\n",
       "      <td>True</td>\n",
       "      <td>1</td>\n",
       "      <td>112</td>\n",
       "      <td>259.0</td>\n",
       "      <td>0.0</td>\n",
       "    </tr>\n",
       "    <tr>\n",
       "      <th>1</th>\n",
       "      <td>Action</td>\n",
       "      <td>Carmageddon Max Pack</td>\n",
       "      <td>1997.0</td>\n",
       "      <td>9.99</td>\n",
       "      <td>282010.0</td>\n",
       "      <td>Stainless Games Ltd</td>\n",
       "      <td>InstigatorAU</td>\n",
       "      <td>True</td>\n",
       "      <td>1</td>\n",
       "      <td>112</td>\n",
       "      <td>0.0</td>\n",
       "      <td>0.0</td>\n",
       "    </tr>\n",
       "    <tr>\n",
       "      <th>2</th>\n",
       "      <td>Action</td>\n",
       "      <td>Carmageddon Max Pack</td>\n",
       "      <td>1997.0</td>\n",
       "      <td>9.99</td>\n",
       "      <td>282010.0</td>\n",
       "      <td>Stainless Games Ltd</td>\n",
       "      <td>InstigatorAU</td>\n",
       "      <td>True</td>\n",
       "      <td>1</td>\n",
       "      <td>112</td>\n",
       "      <td>7410.0</td>\n",
       "      <td>0.0</td>\n",
       "    </tr>\n",
       "    <tr>\n",
       "      <th>3</th>\n",
       "      <td>Action</td>\n",
       "      <td>Carmageddon Max Pack</td>\n",
       "      <td>1997.0</td>\n",
       "      <td>9.99</td>\n",
       "      <td>282010.0</td>\n",
       "      <td>Stainless Games Ltd</td>\n",
       "      <td>InstigatorAU</td>\n",
       "      <td>True</td>\n",
       "      <td>1</td>\n",
       "      <td>112</td>\n",
       "      <td>66.0</td>\n",
       "      <td>0.0</td>\n",
       "    </tr>\n",
       "    <tr>\n",
       "      <th>4</th>\n",
       "      <td>Action</td>\n",
       "      <td>Carmageddon Max Pack</td>\n",
       "      <td>1997.0</td>\n",
       "      <td>9.99</td>\n",
       "      <td>282010.0</td>\n",
       "      <td>Stainless Games Ltd</td>\n",
       "      <td>InstigatorAU</td>\n",
       "      <td>True</td>\n",
       "      <td>1</td>\n",
       "      <td>112</td>\n",
       "      <td>9.0</td>\n",
       "      <td>0.0</td>\n",
       "    </tr>\n",
       "  </tbody>\n",
       "</table>\n",
       "</div>"
      ],
      "text/plain": [
       "   genres                 title  release_date  price   item_id  \\\n",
       "0  Action  Carmageddon Max Pack        1997.0   9.99  282010.0   \n",
       "1  Action  Carmageddon Max Pack        1997.0   9.99  282010.0   \n",
       "2  Action  Carmageddon Max Pack        1997.0   9.99  282010.0   \n",
       "3  Action  Carmageddon Max Pack        1997.0   9.99  282010.0   \n",
       "4  Action  Carmageddon Max Pack        1997.0   9.99  282010.0   \n",
       "\n",
       "             developer       user_id  recommend  sentiment_analysis  \\\n",
       "0  Stainless Games Ltd  InstigatorAU       True                   1   \n",
       "1  Stainless Games Ltd  InstigatorAU       True                   1   \n",
       "2  Stainless Games Ltd  InstigatorAU       True                   1   \n",
       "3  Stainless Games Ltd  InstigatorAU       True                   1   \n",
       "4  Stainless Games Ltd  InstigatorAU       True                   1   \n",
       "\n",
       "   items_count  playtime_forever  playtime_2weeks  \n",
       "0          112             259.0              0.0  \n",
       "1          112               0.0              0.0  \n",
       "2          112            7410.0              0.0  \n",
       "3          112              66.0              0.0  \n",
       "4          112               9.0              0.0  "
      ]
     },
     "execution_count": 32,
     "metadata": {},
     "output_type": "execute_result"
    }
   ],
   "source": [
    "df.to_parquet(\"Dataset/data_final.parquet\")\n",
    "df.head()"
   ]
  },
  {
   "cell_type": "code",
   "execution_count": 13,
   "metadata": {},
   "outputs": [
    {
     "data": {
      "text/html": [
       "<div>\n",
       "<style scoped>\n",
       "    .dataframe tbody tr th:only-of-type {\n",
       "        vertical-align: middle;\n",
       "    }\n",
       "\n",
       "    .dataframe tbody tr th {\n",
       "        vertical-align: top;\n",
       "    }\n",
       "\n",
       "    .dataframe thead th {\n",
       "        text-align: right;\n",
       "    }\n",
       "</style>\n",
       "<table border=\"1\" class=\"dataframe\">\n",
       "  <thead>\n",
       "    <tr style=\"text-align: right;\">\n",
       "      <th></th>\n",
       "      <th>genres</th>\n",
       "      <th>title</th>\n",
       "      <th>release_date</th>\n",
       "      <th>price</th>\n",
       "      <th>item_id</th>\n",
       "      <th>developer</th>\n",
       "      <th>user_id</th>\n",
       "      <th>recommend</th>\n",
       "      <th>sentiment_analysis</th>\n",
       "      <th>items_count</th>\n",
       "      <th>playtime_forever</th>\n",
       "      <th>playtime_2weeks</th>\n",
       "    </tr>\n",
       "  </thead>\n",
       "  <tbody>\n",
       "    <tr>\n",
       "      <th>0</th>\n",
       "      <td>Action</td>\n",
       "      <td>Carmageddon Max Pack</td>\n",
       "      <td>1997.0</td>\n",
       "      <td>9.99</td>\n",
       "      <td>282010.0</td>\n",
       "      <td>Stainless Games Ltd</td>\n",
       "      <td>InstigatorAU</td>\n",
       "      <td>True</td>\n",
       "      <td>1</td>\n",
       "      <td>112</td>\n",
       "      <td>259.0</td>\n",
       "      <td>0.0</td>\n",
       "    </tr>\n",
       "  </tbody>\n",
       "</table>\n",
       "</div>"
      ],
      "text/plain": [
       "   genres                 title  release_date  price   item_id  \\\n",
       "0  Action  Carmageddon Max Pack        1997.0   9.99  282010.0   \n",
       "\n",
       "             developer       user_id  recommend  sentiment_analysis  \\\n",
       "0  Stainless Games Ltd  InstigatorAU       True                   1   \n",
       "\n",
       "   items_count  playtime_forever  playtime_2weeks  \n",
       "0          112             259.0              0.0  "
      ]
     },
     "execution_count": 13,
     "metadata": {},
     "output_type": "execute_result"
    }
   ],
   "source": [
    "df.head(1)"
   ]
  },
  {
   "cell_type": "markdown",
   "metadata": {},
   "source": [
    "Dataset para el endpoint 2"
   ]
  },
  {
   "cell_type": "code",
   "execution_count": 14,
   "metadata": {},
   "outputs": [
    {
     "data": {
      "text/html": [
       "<div>\n",
       "<style scoped>\n",
       "    .dataframe tbody tr th:only-of-type {\n",
       "        vertical-align: middle;\n",
       "    }\n",
       "\n",
       "    .dataframe tbody tr th {\n",
       "        vertical-align: top;\n",
       "    }\n",
       "\n",
       "    .dataframe thead th {\n",
       "        text-align: right;\n",
       "    }\n",
       "</style>\n",
       "<table border=\"1\" class=\"dataframe\">\n",
       "  <thead>\n",
       "    <tr style=\"text-align: right;\">\n",
       "      <th></th>\n",
       "      <th>price</th>\n",
       "      <th>user_id</th>\n",
       "      <th>recommend</th>\n",
       "      <th>items_count</th>\n",
       "    </tr>\n",
       "  </thead>\n",
       "  <tbody>\n",
       "    <tr>\n",
       "      <th>0</th>\n",
       "      <td>9.99</td>\n",
       "      <td>InstigatorAU</td>\n",
       "      <td>True</td>\n",
       "      <td>112</td>\n",
       "    </tr>\n",
       "    <tr>\n",
       "      <th>1</th>\n",
       "      <td>9.99</td>\n",
       "      <td>InstigatorAU</td>\n",
       "      <td>True</td>\n",
       "      <td>112</td>\n",
       "    </tr>\n",
       "    <tr>\n",
       "      <th>2</th>\n",
       "      <td>9.99</td>\n",
       "      <td>InstigatorAU</td>\n",
       "      <td>True</td>\n",
       "      <td>112</td>\n",
       "    </tr>\n",
       "    <tr>\n",
       "      <th>3</th>\n",
       "      <td>9.99</td>\n",
       "      <td>InstigatorAU</td>\n",
       "      <td>True</td>\n",
       "      <td>112</td>\n",
       "    </tr>\n",
       "    <tr>\n",
       "      <th>4</th>\n",
       "      <td>9.99</td>\n",
       "      <td>InstigatorAU</td>\n",
       "      <td>True</td>\n",
       "      <td>112</td>\n",
       "    </tr>\n",
       "    <tr>\n",
       "      <th>...</th>\n",
       "      <td>...</td>\n",
       "      <td>...</td>\n",
       "      <td>...</td>\n",
       "      <td>...</td>\n",
       "    </tr>\n",
       "    <tr>\n",
       "      <th>8344479</th>\n",
       "      <td>9.99</td>\n",
       "      <td>lachwe</td>\n",
       "      <td>True</td>\n",
       "      <td>24</td>\n",
       "    </tr>\n",
       "    <tr>\n",
       "      <th>8344480</th>\n",
       "      <td>9.99</td>\n",
       "      <td>lachwe</td>\n",
       "      <td>True</td>\n",
       "      <td>24</td>\n",
       "    </tr>\n",
       "    <tr>\n",
       "      <th>8344481</th>\n",
       "      <td>9.99</td>\n",
       "      <td>lachwe</td>\n",
       "      <td>True</td>\n",
       "      <td>24</td>\n",
       "    </tr>\n",
       "    <tr>\n",
       "      <th>8344482</th>\n",
       "      <td>9.99</td>\n",
       "      <td>lachwe</td>\n",
       "      <td>True</td>\n",
       "      <td>24</td>\n",
       "    </tr>\n",
       "    <tr>\n",
       "      <th>8344483</th>\n",
       "      <td>9.99</td>\n",
       "      <td>lachwe</td>\n",
       "      <td>True</td>\n",
       "      <td>24</td>\n",
       "    </tr>\n",
       "  </tbody>\n",
       "</table>\n",
       "<p>8196278 rows × 4 columns</p>\n",
       "</div>"
      ],
      "text/plain": [
       "         price       user_id  recommend  items_count\n",
       "0         9.99  InstigatorAU       True          112\n",
       "1         9.99  InstigatorAU       True          112\n",
       "2         9.99  InstigatorAU       True          112\n",
       "3         9.99  InstigatorAU       True          112\n",
       "4         9.99  InstigatorAU       True          112\n",
       "...        ...           ...        ...          ...\n",
       "8344479   9.99        lachwe       True           24\n",
       "8344480   9.99        lachwe       True           24\n",
       "8344481   9.99        lachwe       True           24\n",
       "8344482   9.99        lachwe       True           24\n",
       "8344483   9.99        lachwe       True           24\n",
       "\n",
       "[8196278 rows x 4 columns]"
      ]
     },
     "execution_count": 14,
     "metadata": {},
     "output_type": "execute_result"
    }
   ],
   "source": [
    "df_endpoint_2 = df[['price','user_id','recommend','items_count']] \n",
    "df_endpoint_2.to_parquet(\"Dataset/endpoint_2.parquet\")\n",
    "df_endpoint_2"
   ]
  },
  {
   "cell_type": "markdown",
   "metadata": {},
   "source": [
    "Dataset enpoint 3"
   ]
  },
  {
   "cell_type": "code",
   "execution_count": 15,
   "metadata": {},
   "outputs": [
    {
     "data": {
      "text/html": [
       "<div>\n",
       "<style scoped>\n",
       "    .dataframe tbody tr th:only-of-type {\n",
       "        vertical-align: middle;\n",
       "    }\n",
       "\n",
       "    .dataframe tbody tr th {\n",
       "        vertical-align: top;\n",
       "    }\n",
       "\n",
       "    .dataframe thead th {\n",
       "        text-align: right;\n",
       "    }\n",
       "</style>\n",
       "<table border=\"1\" class=\"dataframe\">\n",
       "  <thead>\n",
       "    <tr style=\"text-align: right;\">\n",
       "      <th></th>\n",
       "      <th>user_id</th>\n",
       "      <th>playtime_forever</th>\n",
       "      <th>genres</th>\n",
       "      <th>release_date</th>\n",
       "    </tr>\n",
       "  </thead>\n",
       "  <tbody>\n",
       "    <tr>\n",
       "      <th>2449289</th>\n",
       "      <td>76561198053869543</td>\n",
       "      <td>76.0</td>\n",
       "      <td>Indie</td>\n",
       "      <td>2015.0</td>\n",
       "    </tr>\n",
       "    <tr>\n",
       "      <th>1889379</th>\n",
       "      <td>Terrible_Terrio</td>\n",
       "      <td>645.0</td>\n",
       "      <td>Action</td>\n",
       "      <td>2014.0</td>\n",
       "    </tr>\n",
       "    <tr>\n",
       "      <th>3515064</th>\n",
       "      <td>sphix</td>\n",
       "      <td>2561.0</td>\n",
       "      <td>Free to Play</td>\n",
       "      <td>2017.0</td>\n",
       "    </tr>\n",
       "    <tr>\n",
       "      <th>172309</th>\n",
       "      <td>jrobertson7</td>\n",
       "      <td>299.0</td>\n",
       "      <td>Simulation</td>\n",
       "      <td>2006.0</td>\n",
       "    </tr>\n",
       "    <tr>\n",
       "      <th>1924987</th>\n",
       "      <td>76561198085677474</td>\n",
       "      <td>1324.0</td>\n",
       "      <td>Action</td>\n",
       "      <td>2013.0</td>\n",
       "    </tr>\n",
       "    <tr>\n",
       "      <th>6312311</th>\n",
       "      <td>jdeb9</td>\n",
       "      <td>1119.0</td>\n",
       "      <td>Adventure</td>\n",
       "      <td>2013.0</td>\n",
       "    </tr>\n",
       "    <tr>\n",
       "      <th>2896808</th>\n",
       "      <td>76561198042297860</td>\n",
       "      <td>1352.0</td>\n",
       "      <td>Adventure</td>\n",
       "      <td>2016.0</td>\n",
       "    </tr>\n",
       "    <tr>\n",
       "      <th>1408485</th>\n",
       "      <td>Praiseofdeph</td>\n",
       "      <td>410.0</td>\n",
       "      <td>Action</td>\n",
       "      <td>2013.0</td>\n",
       "    </tr>\n",
       "    <tr>\n",
       "      <th>2460755</th>\n",
       "      <td>76561198010871424</td>\n",
       "      <td>10.0</td>\n",
       "      <td>Adventure</td>\n",
       "      <td>2015.0</td>\n",
       "    </tr>\n",
       "    <tr>\n",
       "      <th>4021177</th>\n",
       "      <td>keemotherapy</td>\n",
       "      <td>681.0</td>\n",
       "      <td>Free to Play</td>\n",
       "      <td>2015.0</td>\n",
       "    </tr>\n",
       "  </tbody>\n",
       "</table>\n",
       "</div>"
      ],
      "text/plain": [
       "                   user_id  playtime_forever        genres  release_date\n",
       "2449289  76561198053869543              76.0         Indie        2015.0\n",
       "1889379    Terrible_Terrio             645.0        Action        2014.0\n",
       "3515064              sphix            2561.0  Free to Play        2017.0\n",
       "172309         jrobertson7             299.0    Simulation        2006.0\n",
       "1924987  76561198085677474            1324.0        Action        2013.0\n",
       "6312311              jdeb9            1119.0     Adventure        2013.0\n",
       "2896808  76561198042297860            1352.0     Adventure        2016.0\n",
       "1408485       Praiseofdeph             410.0        Action        2013.0\n",
       "2460755  76561198010871424              10.0     Adventure        2015.0\n",
       "4021177       keemotherapy             681.0  Free to Play        2015.0"
      ]
     },
     "execution_count": 15,
     "metadata": {},
     "output_type": "execute_result"
    }
   ],
   "source": [
    "df_endpoint_3 = df[['user_id', 'playtime_forever', 'genres', 'release_date']]\n",
    "df_endpoint_3.to_parquet(\"Dataset/endpoint_3.parquet\")\n",
    "df_endpoint_3.sample(10)"
   ]
  },
  {
   "cell_type": "markdown",
   "metadata": {},
   "source": [
    "Dataset endpoint 4"
   ]
  },
  {
   "cell_type": "code",
   "execution_count": 18,
   "metadata": {},
   "outputs": [
    {
     "data": {
      "text/html": [
       "<div>\n",
       "<style scoped>\n",
       "    .dataframe tbody tr th:only-of-type {\n",
       "        vertical-align: middle;\n",
       "    }\n",
       "\n",
       "    .dataframe tbody tr th {\n",
       "        vertical-align: top;\n",
       "    }\n",
       "\n",
       "    .dataframe thead th {\n",
       "        text-align: right;\n",
       "    }\n",
       "</style>\n",
       "<table border=\"1\" class=\"dataframe\">\n",
       "  <thead>\n",
       "    <tr style=\"text-align: right;\">\n",
       "      <th></th>\n",
       "      <th>developer</th>\n",
       "      <th>recommend</th>\n",
       "      <th>release_date</th>\n",
       "      <th>sentiment_analysis</th>\n",
       "    </tr>\n",
       "  </thead>\n",
       "  <tbody>\n",
       "    <tr>\n",
       "      <th>0</th>\n",
       "      <td>Stainless Games Ltd</td>\n",
       "      <td>True</td>\n",
       "      <td>1997.0</td>\n",
       "      <td>1</td>\n",
       "    </tr>\n",
       "    <tr>\n",
       "      <th>1</th>\n",
       "      <td>Stainless Games Ltd</td>\n",
       "      <td>True</td>\n",
       "      <td>1997.0</td>\n",
       "      <td>1</td>\n",
       "    </tr>\n",
       "    <tr>\n",
       "      <th>2</th>\n",
       "      <td>Stainless Games Ltd</td>\n",
       "      <td>True</td>\n",
       "      <td>1997.0</td>\n",
       "      <td>1</td>\n",
       "    </tr>\n",
       "    <tr>\n",
       "      <th>3</th>\n",
       "      <td>Stainless Games Ltd</td>\n",
       "      <td>True</td>\n",
       "      <td>1997.0</td>\n",
       "      <td>1</td>\n",
       "    </tr>\n",
       "  </tbody>\n",
       "</table>\n",
       "</div>"
      ],
      "text/plain": [
       "             developer  recommend  release_date  sentiment_analysis\n",
       "0  Stainless Games Ltd       True        1997.0                   1\n",
       "1  Stainless Games Ltd       True        1997.0                   1\n",
       "2  Stainless Games Ltd       True        1997.0                   1\n",
       "3  Stainless Games Ltd       True        1997.0                   1"
      ]
     },
     "execution_count": 18,
     "metadata": {},
     "output_type": "execute_result"
    }
   ],
   "source": [
    "df_endpoint_4 = df[['developer', 'recommend', 'release_date', 'sentiment_analysis']]\n",
    "df_endpoint_4.to_parquet('Dataset/endpoint_4.parquet')\n",
    "df_endpoint_4.head(4)"
   ]
  },
  {
   "cell_type": "code",
   "execution_count": 26,
   "metadata": {},
   "outputs": [
    {
     "data": {
      "text/html": [
       "<div>\n",
       "<style scoped>\n",
       "    .dataframe tbody tr th:only-of-type {\n",
       "        vertical-align: middle;\n",
       "    }\n",
       "\n",
       "    .dataframe tbody tr th {\n",
       "        vertical-align: top;\n",
       "    }\n",
       "\n",
       "    .dataframe thead th {\n",
       "        text-align: right;\n",
       "    }\n",
       "</style>\n",
       "<table border=\"1\" class=\"dataframe\">\n",
       "  <thead>\n",
       "    <tr style=\"text-align: right;\">\n",
       "      <th></th>\n",
       "      <th>developer</th>\n",
       "      <th>recommend</th>\n",
       "      <th>release_date</th>\n",
       "      <th>sentiment_analysis</th>\n",
       "    </tr>\n",
       "  </thead>\n",
       "  <tbody>\n",
       "    <tr>\n",
       "      <th>0</th>\n",
       "      <td>Stainless Games Ltd</td>\n",
       "      <td>True</td>\n",
       "      <td>1997.0</td>\n",
       "      <td>1</td>\n",
       "    </tr>\n",
       "    <tr>\n",
       "      <th>1</th>\n",
       "      <td>Stainless Games Ltd</td>\n",
       "      <td>True</td>\n",
       "      <td>1997.0</td>\n",
       "      <td>1</td>\n",
       "    </tr>\n",
       "    <tr>\n",
       "      <th>2</th>\n",
       "      <td>Stainless Games Ltd</td>\n",
       "      <td>True</td>\n",
       "      <td>1997.0</td>\n",
       "      <td>1</td>\n",
       "    </tr>\n",
       "    <tr>\n",
       "      <th>3</th>\n",
       "      <td>Stainless Games Ltd</td>\n",
       "      <td>True</td>\n",
       "      <td>1997.0</td>\n",
       "      <td>1</td>\n",
       "    </tr>\n",
       "    <tr>\n",
       "      <th>4</th>\n",
       "      <td>Stainless Games Ltd</td>\n",
       "      <td>True</td>\n",
       "      <td>1997.0</td>\n",
       "      <td>1</td>\n",
       "    </tr>\n",
       "    <tr>\n",
       "      <th>...</th>\n",
       "      <td>...</td>\n",
       "      <td>...</td>\n",
       "      <td>...</td>\n",
       "      <td>...</td>\n",
       "    </tr>\n",
       "    <tr>\n",
       "      <th>7855135</th>\n",
       "      <td>LucasArts</td>\n",
       "      <td>True</td>\n",
       "      <td>1997.0</td>\n",
       "      <td>2</td>\n",
       "    </tr>\n",
       "    <tr>\n",
       "      <th>7855136</th>\n",
       "      <td>LucasArts</td>\n",
       "      <td>True</td>\n",
       "      <td>1997.0</td>\n",
       "      <td>2</td>\n",
       "    </tr>\n",
       "    <tr>\n",
       "      <th>7855137</th>\n",
       "      <td>LucasArts</td>\n",
       "      <td>True</td>\n",
       "      <td>1997.0</td>\n",
       "      <td>2</td>\n",
       "    </tr>\n",
       "    <tr>\n",
       "      <th>7855138</th>\n",
       "      <td>LucasArts</td>\n",
       "      <td>True</td>\n",
       "      <td>1997.0</td>\n",
       "      <td>2</td>\n",
       "    </tr>\n",
       "    <tr>\n",
       "      <th>7977949</th>\n",
       "      <td>id Software</td>\n",
       "      <td>True</td>\n",
       "      <td>1997.0</td>\n",
       "      <td>2</td>\n",
       "    </tr>\n",
       "  </tbody>\n",
       "</table>\n",
       "<p>4591 rows × 4 columns</p>\n",
       "</div>"
      ],
      "text/plain": [
       "                   developer  recommend  release_date  sentiment_analysis\n",
       "0        Stainless Games Ltd       True        1997.0                   1\n",
       "1        Stainless Games Ltd       True        1997.0                   1\n",
       "2        Stainless Games Ltd       True        1997.0                   1\n",
       "3        Stainless Games Ltd       True        1997.0                   1\n",
       "4        Stainless Games Ltd       True        1997.0                   1\n",
       "...                      ...        ...           ...                 ...\n",
       "7855135            LucasArts       True        1997.0                   2\n",
       "7855136            LucasArts       True        1997.0                   2\n",
       "7855137            LucasArts       True        1997.0                   2\n",
       "7855138            LucasArts       True        1997.0                   2\n",
       "7977949          id Software       True        1997.0                   2\n",
       "\n",
       "[4591 rows x 4 columns]"
      ]
     },
     "execution_count": 26,
     "metadata": {},
     "output_type": "execute_result"
    }
   ],
   "source": [
    "df_endpoint_4[df_endpoint_4['release_date']== 1997]"
   ]
  },
  {
   "cell_type": "markdown",
   "metadata": {},
   "source": [
    "Dataset endpoint 5"
   ]
  },
  {
   "cell_type": "code",
   "execution_count": 28,
   "metadata": {},
   "outputs": [
    {
     "data": {
      "text/html": [
       "<div>\n",
       "<style scoped>\n",
       "    .dataframe tbody tr th:only-of-type {\n",
       "        vertical-align: middle;\n",
       "    }\n",
       "\n",
       "    .dataframe tbody tr th {\n",
       "        vertical-align: top;\n",
       "    }\n",
       "\n",
       "    .dataframe thead th {\n",
       "        text-align: right;\n",
       "    }\n",
       "</style>\n",
       "<table border=\"1\" class=\"dataframe\">\n",
       "  <thead>\n",
       "    <tr style=\"text-align: right;\">\n",
       "      <th></th>\n",
       "      <th>genres</th>\n",
       "      <th>title</th>\n",
       "      <th>release_date</th>\n",
       "      <th>price</th>\n",
       "      <th>item_id</th>\n",
       "      <th>developer</th>\n",
       "      <th>user_id</th>\n",
       "      <th>recommend</th>\n",
       "      <th>sentiment_analysis</th>\n",
       "      <th>items_count</th>\n",
       "      <th>playtime_forever</th>\n",
       "      <th>playtime_2weeks</th>\n",
       "    </tr>\n",
       "  </thead>\n",
       "  <tbody>\n",
       "    <tr>\n",
       "      <th>0</th>\n",
       "      <td>Action</td>\n",
       "      <td>Carmageddon Max Pack</td>\n",
       "      <td>1997.0</td>\n",
       "      <td>9.99</td>\n",
       "      <td>282010.0</td>\n",
       "      <td>Stainless Games Ltd</td>\n",
       "      <td>InstigatorAU</td>\n",
       "      <td>True</td>\n",
       "      <td>1</td>\n",
       "      <td>112</td>\n",
       "      <td>259.0</td>\n",
       "      <td>0.0</td>\n",
       "    </tr>\n",
       "  </tbody>\n",
       "</table>\n",
       "</div>"
      ],
      "text/plain": [
       "   genres                 title  release_date  price   item_id  \\\n",
       "0  Action  Carmageddon Max Pack        1997.0   9.99  282010.0   \n",
       "\n",
       "             developer       user_id  recommend  sentiment_analysis  \\\n",
       "0  Stainless Games Ltd  InstigatorAU       True                   1   \n",
       "\n",
       "   items_count  playtime_forever  playtime_2weeks  \n",
       "0          112             259.0              0.0  "
      ]
     },
     "execution_count": 28,
     "metadata": {},
     "output_type": "execute_result"
    }
   ],
   "source": [
    "df.head(1)"
   ]
  },
  {
   "cell_type": "code",
   "execution_count": 30,
   "metadata": {},
   "outputs": [],
   "source": [
    "df_endpoint_5 = df[['developer', 'sentiment_analysis']]\n",
    "df_endpoint_5.to_parquet('Dataset/endpoint_5.parquet')"
   ]
  }
 ],
 "metadata": {
  "kernelspec": {
   "display_name": "env",
   "language": "python",
   "name": "python3"
  },
  "language_info": {
   "codemirror_mode": {
    "name": "ipython",
    "version": 3
   },
   "file_extension": ".py",
   "mimetype": "text/x-python",
   "name": "python",
   "nbconvert_exporter": "python",
   "pygments_lexer": "ipython3",
   "version": "3.12.1"
  }
 },
 "nbformat": 4,
 "nbformat_minor": 2
}
